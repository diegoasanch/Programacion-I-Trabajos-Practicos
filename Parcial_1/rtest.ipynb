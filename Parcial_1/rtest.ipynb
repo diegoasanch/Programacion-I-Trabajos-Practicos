{
 "cells": [
  {
   "cell_type": "code",
   "execution_count": 19,
   "metadata": {},
   "outputs": [],
   "source": [
    "matriz = [\n",
    "    [1, 2, 3, 4],\n",
    "    [5, 6, 7, 8],\n",
    "    [9, 10,11,12],\n",
    "    [13, 14, 15, 16]\n",
    "]"
   ]
  },
  {
   "cell_type": "code",
   "execution_count": 20,
   "metadata": {},
   "outputs": [],
   "source": [
    "def repetidoEnMatriz(matriz):\n",
    "    rep = False\n",
    "    i = 0\n",
    "    while i < len(matriz) and not rep:\n",
    "        j = 0\n",
    "        while j < len(matriz[0]) and not rep:\n",
    "            item_actual = matriz[j][i]\n",
    "            for f, fila in enumerate(matriz):\n",
    "                veces = fila.count(item_actual)\n",
    "                veces = veces - 1 if f == i else veces\n",
    "                rep = veces\n",
    "            j +=1\n",
    "        i += 1\n",
    "    return rep \n",
    "                "
   ]
  },
  {
   "cell_type": "code",
   "execution_count": 21,
   "metadata": {},
   "outputs": [
    {
     "output_type": "execute_result",
     "data": {
      "text/plain": "True"
     },
     "metadata": {},
     "execution_count": 21
    }
   ],
   "source": [
    "repetidoEnMatriz(matriz)"
   ]
  }
 ],
 "metadata": {
  "language_info": {
   "codemirror_mode": {
    "name": "ipython",
    "version": 3
   },
   "file_extension": ".py",
   "mimetype": "text/x-python",
   "name": "python",
   "nbconvert_exporter": "python",
   "pygments_lexer": "ipython3",
   "version": "3.8.0-final"
  },
  "orig_nbformat": 2,
  "kernelspec": {
   "name": "python38032bit2cb42038e79b45adbd675ca22b4d7911",
   "display_name": "Python 3.8.0 32-bit"
  }
 },
 "nbformat": 4,
 "nbformat_minor": 2
}